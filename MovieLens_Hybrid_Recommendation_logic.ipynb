{
 "cells": [
  {
   "cell_type": "markdown",
   "id": "f94f0247",
   "metadata": {},
   "source": [
    "# Movie Hybrid Recommendation Logic\n",
    "This notebook demonstrates a hybrid movie recommendation system combining **content-based filtering** and **collaborative filtering** (using SVD). We use the MovieLens dataset (movies.csv and ratings.csv) to build and explain the logic.\n",
    "\n",
    "---"
   ]
  },
  {
   "cell_type": "markdown",
   "id": "e59e1506",
   "metadata": {},
   "source": [
    "## Step 1: Import Libraries and Load Dataset"
   ]
  },
  {
   "cell_type": "code",
   "execution_count": null,
   "id": "1d05f929",
   "metadata": {},
   "outputs": [],
   "source": [
    "import pandas as pd\n",
    "from sklearn.feature_extraction.text import TfidfVectorizer\n",
    "from sklearn.metrics.pairwise import cosine_similarity\n",
    "from scipy.sparse.linalg import svds\n",
    "import numpy as np\n",
    "\n",
    "# Load datasets\n",
    "movies = pd.read_csv('movies.csv')\n",
    "ratings = pd.read_csv('ratings.csv')\n",
    "\n",
    "# Display sample data\n",
    "print('Movies DataFrame:')\n",
    "print(movies.head())\n",
    "\n",
    "print('\\nRatings DataFrame:')\n",
    "print(ratings.head())"
   ]
  },
  {
   "cell_type": "markdown",
   "id": "9c086017",
   "metadata": {},
   "source": [
    "## Step 2: Content-Based Filtering\n",
    "We will use TF-IDF vectorization on movie genres to find movies similar to a given movie based on genre similarity."
   ]
  },
  {
   "cell_type": "code",
   "execution_count": null,
   "id": "455a72b8",
   "metadata": {},
   "outputs": [],
   "source": [
    "\n",
    "# Create TF-IDF matrix from genres\n",
    "tfidf = TfidfVectorizer(token_pattern='[a-zA-Z0-9-]+')\n",
    "tfidf_matrix = tfidf.fit_transform(movies['Genres'])\n",
    "\n",
    "# Compute cosine similarity matrix\n",
    "cosine_sim = cosine_similarity(tfidf_matrix, tfidf_matrix)\n",
    "\n",
    "# Map movie titles to indices for quick lookup\n",
    "indices = pd.Series(movies.index, index=movies['Title']).drop_duplicates()\n",
    "\n",
    "def content_recommendations(title, cosine_sim=cosine_sim):\n",
    "    \"\"\"Return top 10 movies similar to the given movie title based on genres.\"\"\"\n",
    "    idx = indices.get(title, None)\n",
    "    if idx is None:\n",
    "        return \"Movie not found in database.\"\n",
    "    sim_scores = list(enumerate(cosine_sim[idx]))\n",
    "    sim_scores = sorted(sim_scores, key=lambda x: x[1], reverse=True)\n",
    "    sim_scores = sim_scores[1:11]  # Exclude itself\n",
    "    movie_indices = [i[0] for i in sim_scores]\n",
    "    return movies['Title'].iloc[movie_indices]\n",
    "\n",
    "# Example usage\n",
    "content_recommendations('Toy Story (1995)')"
   ]
  },
  {
   "cell_type": "markdown",
   "id": "c6a20070",
   "metadata": {},
   "source": [
    "## Step 3: Collaborative Filtering using SVD\n",
    "We use matrix factorization (SVD) on the user-item rating matrix to predict missing ratings and recommend movies."
   ]
  },
  {
   "cell_type": "code",
   "execution_count": null,
   "id": "9d80d2f3",
   "metadata": {},
   "outputs": [],
   "source": [
    "\n",
    "# Create user-item rating matrix\n",
    "user_movie_ratings = ratings.pivot(index='UserID', columns='MovieID', values='Rating').fillna(0)\n",
    "\n",
    "# Perform SVD\n",
    "U, sigma, Vt = svds(user_movie_ratings, k=50)\n",
    "sigma = np.diag(sigma)\n",
    "\n",
    "# Predict ratings\n",
    "all_user_predicted_ratings = np.dot(np.dot(U, sigma), Vt)\n",
    "preds_df = pd.DataFrame(all_user_predicted_ratings, columns=user_movie_ratings.columns, index=user_movie_ratings.index)\n",
    "\n",
    "def collaborative_recommendations(user_id, preds_df=preds_df, movies_df=movies, original_ratings=ratings, num_recommendations=10):\n",
    "    \"\"\"Recommend movies for a user based on predicted ratings.\"\"\"\n",
    "    user_row_number = user_id - 1  # UserID starts at 1\n",
    "    sorted_user_predictions = preds_df.iloc[user_row_number].sort_values(ascending=False)\n",
    "    \n",
    "    # Get user's rated movies\n",
    "    user_data = original_ratings[original_ratings.UserID == user_id]\n",
    "    user_full = user_data.merge(movies_df, how='left', left_on='MovieID', right_on='MovieID').sort_values(['Rating'], ascending=False)\n",
    "    \n",
    "    # Recommend movies the user hasn't rated yet\n",
    "    recommendations = movies_df[~movies_df['MovieID'].isin(user_full['MovieID'])]\n",
    "    recommendations = recommendations.merge(pd.DataFrame(sorted_user_predictions).reset_index(), how='left',\n",
    "                                            left_on='MovieID',\n",
    "                                            right_on='MovieID')\n",
    "    recommendations = recommendations.rename(columns={user_row_number: 'PredictedRating'})\n",
    "    recommendations = recommendations.sort_values('PredictedRating', ascending=False)\n",
    "    \n",
    "    return recommendations[['Title', 'Genres']].head(num_recommendations)\n",
    "\n",
    "# Example usage\n",
    "collaborative_recommendations(1, preds_df, movies, ratings, 5)"
   ]
  },
  {
   "cell_type": "markdown",
   "id": "40ba90b6",
   "metadata": {},
   "source": [
    "## Step 4: Hybrid Recommendation\n",
    "Combine content-based and collaborative filtering results to give better personalized recommendations."
   ]
  },
  {
   "cell_type": "code",
   "execution_count": null,
   "id": "ee2deb86",
   "metadata": {},
   "outputs": [],
   "source": [
    "\n",
    "def hybrid_recommendations(user_id, favorite_movie_title, top_n=5):\n",
    "    # Get collaborative recommendations for user\n",
    "    collab_recs = collaborative_recommendations(user_id, preds_df, movies, ratings, num_recommendations=20)\n",
    "    \n",
    "    # Get content based recommendations for user's favorite movie\n",
    "    content_recs = content_recommendations(favorite_movie_title)\n",
    "    \n",
    "    if isinstance(content_recs, str):  # If movie not found\n",
    "        return content_recs\n",
    "    \n",
    "    # Find intersection of recommended movie titles\n",
    "    hybrid_recs = collab_recs[collab_recs['Title'].isin(content_recs)].head(top_n)\n",
    "    \n",
    "    # If intersection is small, append more from collaborative recommendations\n",
    "    if len(hybrid_recs) < top_n:\n",
    "        additional = collab_recs[~collab_recs['Title'].isin(hybrid_recs['Title'])].head(top_n - len(hybrid_recs))\n",
    "        hybrid_recs = pd.concat([hybrid_recs, additional])\n",
    "    \n",
    "    return hybrid_recs.reset_index(drop=True)\n",
    "\n",
    "# Example usage\n",
    "hybrid_recommendations(1, 'Toy Story (1995)', 5)\n"
   ]
  },
  {
   "cell_type": "markdown",
   "id": "bc6deca9",
   "metadata": {},
   "source": [
    "### Conclusion\n",
    "This notebook demonstrated a hybrid movie recommendation system combining content-based filtering (using genres) and collaborative filtering (using SVD). This approach balances personalized user preferences with movie attributes for better recommendations."
   ]
  }
 ],
 "metadata": {},
 "nbformat": 4,
 "nbformat_minor": 5
}
